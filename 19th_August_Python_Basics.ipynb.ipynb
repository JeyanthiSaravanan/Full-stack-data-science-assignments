{
 "cells": [
  {
   "cell_type": "markdown",
   "id": "fb58b62c-031a-4b7a-bbc2-08b851252303",
   "metadata": {},
   "source": [
    "## TOPIC: Python Basics Variable"
   ]
  },
  {
   "cell_type": "markdown",
   "id": "9cf41a4d-0f03-4bc9-b9db-4df21b4135f1",
   "metadata": {},
   "source": [
    "1. Declare two variables, `x` and `y`, and assign them integer values. Swap the\n",
    "values of these variables without using any temporary variable."
   ]
  },
  {
   "cell_type": "code",
   "execution_count": 2,
   "id": "feae9399-4366-4b0e-aa96-e45c253ed319",
   "metadata": {},
   "outputs": [],
   "source": [
    "x=5"
   ]
  },
  {
   "cell_type": "code",
   "execution_count": 3,
   "id": "a8900b8d-6e9b-41fc-8f18-77d930196b9e",
   "metadata": {},
   "outputs": [],
   "source": [
    "y=3"
   ]
  },
  {
   "cell_type": "code",
   "execution_count": 4,
   "id": "3439c72a-a8ce-4ebb-ba40-9e8fe78fe880",
   "metadata": {},
   "outputs": [],
   "source": [
    "x=x+y"
   ]
  },
  {
   "cell_type": "code",
   "execution_count": 5,
   "id": "56707fd0-92a2-423c-a21f-4f2b855d9475",
   "metadata": {},
   "outputs": [],
   "source": [
    "y=x-y"
   ]
  },
  {
   "cell_type": "code",
   "execution_count": 6,
   "id": "ce805578-8955-4f2d-b422-f95ad240e8b0",
   "metadata": {},
   "outputs": [],
   "source": [
    "x=x-y"
   ]
  },
  {
   "cell_type": "code",
   "execution_count": 7,
   "id": "81e2c2c9-9cea-40b8-afca-9df12e0611ec",
   "metadata": {},
   "outputs": [
    {
     "data": {
      "text/plain": [
       "3"
      ]
     },
     "execution_count": 7,
     "metadata": {},
     "output_type": "execute_result"
    }
   ],
   "source": [
    "x"
   ]
  },
  {
   "cell_type": "code",
   "execution_count": 8,
   "id": "d02377a8-6b62-42e2-a57b-d7d7645e7680",
   "metadata": {},
   "outputs": [
    {
     "data": {
      "text/plain": [
       "5"
      ]
     },
     "execution_count": 8,
     "metadata": {},
     "output_type": "execute_result"
    }
   ],
   "source": [
    "y"
   ]
  },
  {
   "cell_type": "markdown",
   "id": "dd6facf9-95d9-4f45-b38e-4710afeb69a6",
   "metadata": {},
   "source": [
    "2. Create a program that calculates the area of a rectangle. Take the length and\n",
    "width as inputs from the user and store them in variables. Calculate and\n",
    "display the area."
   ]
  },
  {
   "cell_type": "code",
   "execution_count": 9,
   "id": "b421ec66-4b92-4564-83c2-0e53f6e553f0",
   "metadata": {},
   "outputs": [
    {
     "name": "stdin",
     "output_type": "stream",
     "text": [
      "enter length 25\n",
      "enter width 25\n"
     ]
    },
    {
     "name": "stdout",
     "output_type": "stream",
     "text": [
      "area = 625\n"
     ]
    }
   ],
   "source": [
    "l=int(input(\"enter length\"))\n",
    "w=int(input(\"enter width\"))\n",
    "print (\"area =\", l*w)"
   ]
  },
  {
   "cell_type": "markdown",
   "id": "d2d01b6d-8972-43da-bb69-713a1c6af27a",
   "metadata": {},
   "source": [
    "3. Write a Python program that converts temperatures from Celsius to Fahrenheit. Take the temperature in Celsius as input, store it in a variable, convert it to Fahrenheit, and display the result."
   ]
  },
  {
   "cell_type": "code",
   "execution_count": 11,
   "id": "91cc43f0-e651-4b1f-9771-567260427d60",
   "metadata": {},
   "outputs": [
    {
     "name": "stdin",
     "output_type": "stream",
     "text": [
      "Celcius value = 40\n"
     ]
    },
    {
     "name": "stdout",
     "output_type": "stream",
     "text": [
      "Fahrenheit value = 104.0\n"
     ]
    }
   ],
   "source": [
    "Temp_in_celcius=int(input('Celcius value ='))\n",
    "fahrenheit=(Temp_in_celcius*9/5)+32\n",
    "print (\"Fahrenheit value =\", fahrenheit)"
   ]
  },
  {
   "cell_type": "markdown",
   "id": "e5666954-9248-462e-8e25-2f2e15b16d67",
   "metadata": {},
   "source": [
    "\n",
    "## TOPIC: String Based Questions"
   ]
  },
  {
   "cell_type": "markdown",
   "id": "c0605834-df43-41e6-92a3-6b79494df97c",
   "metadata": {},
   "source": [
    "1. Write a Python program that takes a string as input and prints the length of the string."
   ]
  },
  {
   "cell_type": "code",
   "execution_count": 17,
   "id": "0e1d11a4-18e9-4979-a03b-813ab35620e9",
   "metadata": {},
   "outputs": [
    {
     "name": "stdin",
     "output_type": "stream",
     "text": [
      " Python basics\n"
     ]
    },
    {
     "name": "stdout",
     "output_type": "stream",
     "text": [
      "length of the string 13\n"
     ]
    }
   ],
   "source": [
    "print(\"length of the string\", len(input()))"
   ]
  },
  {
   "cell_type": "markdown",
   "id": "d9d4824d-cb5c-45a7-bc5e-19f5344efe4d",
   "metadata": {},
   "source": [
    "2. Create a program that takes a sentence from the user and counts the number of vowels (a, e, i, o, u) in the string.\n"
   ]
  },
  {
   "cell_type": "code",
   "execution_count": 24,
   "id": "b8c56f50-cee5-42c6-99f2-aab1f7463766",
   "metadata": {},
   "outputs": [
    {
     "name": "stdin",
     "output_type": "stream",
     "text": [
      "Type the sentence PWskills ineuron Data Science Course\n"
     ]
    },
    {
     "name": "stdout",
     "output_type": "stream",
     "text": [
      "13\n"
     ]
    }
   ],
   "source": [
    "user_sentence=input('Type the sentence')\n",
    "sentence=user_sentence.lower()\n",
    "vowels='aeiou'\n",
    "vowels_count=sum(sentence.count(vowel) for vowel in vowels)\n",
    "print (vowels_count)\n"
   ]
  },
  {
   "cell_type": "markdown",
   "id": "ae907543-23c4-4314-a5cf-ff832b49aa69",
   "metadata": {},
   "source": [
    "3. Given a string, reverse the order of characters using string slicing and print\n",
    "the reversed string."
   ]
  },
  {
   "cell_type": "code",
   "execution_count": 25,
   "id": "3789602f-2b54-443e-b38c-fb7cacc9488a",
   "metadata": {},
   "outputs": [
    {
     "name": "stdout",
     "output_type": "stream",
     "text": [
      "ecneicS ataD\n"
     ]
    }
   ],
   "source": [
    "str1= \"Data Science\"\n",
    "str2=str1[::-1]\n",
    "print(str2)"
   ]
  },
  {
   "cell_type": "markdown",
   "id": "8ec63d45-eafb-4102-986c-43067659ab61",
   "metadata": {},
   "source": [
    "4. Write a program that takes a string as input and checks if it is a palindrome\n",
    "(reads the same forwards and backwards)."
   ]
  },
  {
   "cell_type": "code",
   "execution_count": 28,
   "id": "52dd5fd7-b4c2-4136-8b18-8ea7291d969f",
   "metadata": {},
   "outputs": [
    {
     "name": "stdin",
     "output_type": "stream",
     "text": [
      "Type a word Madam\n"
     ]
    },
    {
     "name": "stdout",
     "output_type": "stream",
     "text": [
      "Palindrome\n"
     ]
    }
   ],
   "source": [
    "str1=input(\"Type a word\").upper()\n",
    "str2=str1[::-1]\n",
    "\n",
    "if str1==str2:\n",
    "    print('Palindrome')\n",
    "else:\n",
    "    print('Not a Palindrome')"
   ]
  },
  {
   "cell_type": "markdown",
   "id": "ec9910e0-929a-44a1-9678-20df3f229fc3",
   "metadata": {},
   "source": [
    "5. Create a program that takes a string as input and removes all the spaces from\n",
    "it. Print the modified string without spaces."
   ]
  },
  {
   "cell_type": "code",
   "execution_count": 30,
   "id": "0f35623c-6c00-4b88-be3c-5a61c7b70db9",
   "metadata": {},
   "outputs": [
    {
     "name": "stdin",
     "output_type": "stream",
     "text": [
      " remove spaces\n"
     ]
    },
    {
     "name": "stdout",
     "output_type": "stream",
     "text": [
      "removespaces\n"
     ]
    }
   ],
   "source": [
    "str3=input()\n",
    "str4=''.join(str3.split())\n",
    "print(str4)"
   ]
  },
  {
   "cell_type": "code",
   "execution_count": null,
   "id": "1b6e16cf-04e5-4f91-9847-22b8062e8de0",
   "metadata": {},
   "outputs": [],
   "source": []
  }
 ],
 "metadata": {
  "kernelspec": {
   "display_name": "Python 3 (ipykernel)",
   "language": "python",
   "name": "python3"
  },
  "language_info": {
   "codemirror_mode": {
    "name": "ipython",
    "version": 3
   },
   "file_extension": ".py",
   "mimetype": "text/x-python",
   "name": "python",
   "nbconvert_exporter": "python",
   "pygments_lexer": "ipython3",
   "version": "3.10.8"
  }
 },
 "nbformat": 4,
 "nbformat_minor": 5
}
